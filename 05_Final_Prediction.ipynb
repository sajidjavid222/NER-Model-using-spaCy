{
 "cells": [
  {
   "cell_type": "code",
   "execution_count": 3,
   "id": "6a045cb5",
   "metadata": {},
   "outputs": [],
   "source": [
    "import cv2\n",
    "import predictions as pred"
   ]
  },
  {
   "cell_type": "code",
   "execution_count": null,
   "id": "07f3073c",
   "metadata": {},
   "outputs": [],
   "source": [
    "img = cv2.imread('./Data/6.jpg')\n",
    "cv2.namedWindow(\"Original\",cv2.WINDOW_NORMAL)\n",
    "cv2.imshow(\"Original\",img)\n",
    "cv2.waitKey(0)\n",
    "cv2.destroyAllWindows()"
   ]
  },
  {
   "cell_type": "code",
   "execution_count": null,
   "id": "cad8514a",
   "metadata": {},
   "outputs": [],
   "source": []
  },
  {
   "cell_type": "code",
   "execution_count": null,
   "id": "32b9f874",
   "metadata": {},
   "outputs": [
    {
     "name": "stdout",
     "output_type": "stream",
     "text": [
      "stanford stanford @ medicine cardiovascular institute joseph c. wu, md, phd director, stanford cardiovascular institute professor medicine cardiology radiology 265 campus drive, g-1120b re 650 736-2246 stanford, ca 94305, mc-5454 http//wulab.stanford.edu joewu@stanford.edu http//evistanford.edu\n",
      "{'NAME': ['Joseph C Wu'], 'ORG': ['Medicine Cardiovascular Institute'], 'DES': ['Phd', 'Director'], 'PHONE': ['650736'], 'EMAIL': ['httpwulab.stanford.edu', 'joewu@stanford.edu'], 'WEB': ['http//evistanford.edu']}\n"
     ]
    }
   ],
   "source": [
    "img = cv2.imread('./Data/54.jpg')\n",
    "img_results, entities = pred.getPredictions(img)\n",
    "print(entities)\n",
    "cv2.namedWindow(\"Predictions\",cv2.WINDOW_NORMAL)\n",
    "cv2.imshow(\"Predictions\",img_results)\n",
    "cv2.waitKey(0)\n",
    "cv2.destroyAllWindows()"
   ]
  },
  {
   "cell_type": "code",
   "execution_count": null,
   "id": "5780616e",
   "metadata": {},
   "outputs": [],
   "source": []
  }
 ],
 "metadata": {
  "kernelspec": {
   "display_name": "Python 3 (ipykernel)",
   "language": "python",
   "name": "python3"
  },
  "language_info": {
   "codemirror_mode": {
    "name": "ipython",
    "version": 3
   },
   "file_extension": ".py",
   "mimetype": "text/x-python",
   "name": "python",
   "nbconvert_exporter": "python",
   "pygments_lexer": "ipython3",
   "version": "3.10.8"
  }
 },
 "nbformat": 4,
 "nbformat_minor": 5
}
